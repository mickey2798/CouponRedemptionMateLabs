{
  "nbformat": 4,
  "nbformat_minor": 0,
  "metadata": {
    "colab": {
      "name": "Coupon_Redemption - Mate_Labs.ipynb",
      "provenance": [],
      "authorship_tag": "ABX9TyMS2od4Q5HeUwKRReMkU/sP",
      "include_colab_link": true
    },
    "kernelspec": {
      "name": "python3",
      "display_name": "Python 3"
    }
  },
  "cells": [
    {
      "cell_type": "markdown",
      "metadata": {
        "id": "view-in-github",
        "colab_type": "text"
      },
      "source": [
        "<a href=\"https://colab.research.google.com/github/mickey2798/CouponRedemptionMateLabs/blob/master/Coupon_Redemption_Mate_Labs.ipynb\" target=\"_parent\"><img src=\"https://colab.research.google.com/assets/colab-badge.svg\" alt=\"Open In Colab\"/></a>"
      ]
    },
    {
      "cell_type": "code",
      "metadata": {
        "id": "LKYo0Xt8ampP",
        "colab_type": "code",
        "colab": {}
      },
      "source": [
        " # Code to read csv file into Colaboratory:\n",
        "!pip install -U -q PyDrive\n",
        "from pydrive.auth import GoogleAuth\n",
        "from pydrive.drive import GoogleDrive\n",
        "from google.colab import auth\n",
        "from oauth2client.client import GoogleCredentials\n",
        "# Authenticate and create the PyDrive client.\n",
        "auth.authenticate_user()\n",
        "gauth = GoogleAuth()\n",
        "gauth.credentials = GoogleCredentials.get_application_default()\n",
        "drive = GoogleDrive(gauth)"
      ],
      "execution_count": null,
      "outputs": []
    },
    {
      "cell_type": "code",
      "metadata": {
        "id": "7Lfcwobfa4sA",
        "colab_type": "code",
        "colab": {}
      },
      "source": [
        "link = 'https://drive.google.com/open?id=1p2g0LIC1lPV7i36mGudfSuP9CJu3LZM2'"
      ],
      "execution_count": null,
      "outputs": []
    },
    {
      "cell_type": "code",
      "metadata": {
        "id": "FasmA_ixbGQX",
        "colab_type": "code",
        "colab": {
          "base_uri": "https://localhost:8080/",
          "height": 34
        },
        "outputId": "3d6373dc-3868-402d-d8f2-666732e6b180"
      },
      "source": [
        "fluff, id = link.split('=')\n",
        "print (id)"
      ],
      "execution_count": null,
      "outputs": [
        {
          "output_type": "stream",
          "text": [
            "1p2g0LIC1lPV7i36mGudfSuP9CJu3LZM2\n"
          ],
          "name": "stdout"
        }
      ]
    },
    {
      "cell_type": "code",
      "metadata": {
        "id": "X78f3YtybIiq",
        "colab_type": "code",
        "colab": {}
      },
      "source": [
        "downloaded = drive.CreateFile({'id':id}) \n",
        "downloaded.GetContentFile('data_matelabs.zip') "
      ],
      "execution_count": null,
      "outputs": []
    },
    {
      "cell_type": "code",
      "metadata": {
        "id": "t8Si0Gz4bKfT",
        "colab_type": "code",
        "colab": {
          "base_uri": "https://localhost:8080/",
          "height": 34
        },
        "outputId": "ac715ed0-4668-436f-fe1c-ab658982e250"
      },
      "source": [
        "!ls"
      ],
      "execution_count": null,
      "outputs": [
        {
          "output_type": "stream",
          "text": [
            "adc.json  data_matelabs.zip  sample_data\n"
          ],
          "name": "stdout"
        }
      ]
    },
    {
      "cell_type": "code",
      "metadata": {
        "id": "0W0cm7SlbMu0",
        "colab_type": "code",
        "colab": {
          "base_uri": "https://localhost:8080/",
          "height": 153
        },
        "outputId": "89a7bce2-47cb-4522-89b5-3406285ef724"
      },
      "source": [
        "!unzip data_matelabs.zip"
      ],
      "execution_count": null,
      "outputs": [
        {
          "output_type": "stream",
          "text": [
            "Archive:  data_matelabs.zip\n",
            "   creating: data/\n",
            "  inflating: data/campaign_data.csv  \n",
            "  inflating: data/coupon_item_mapping.csv  \n",
            "  inflating: data/customer_demographics.csv  \n",
            "  inflating: data/customer_transaction_data.csv  \n",
            "  inflating: data/item_data.csv      \n",
            "  inflating: data/train.csv          \n"
          ],
          "name": "stdout"
        }
      ]
    },
    {
      "cell_type": "code",
      "metadata": {
        "id": "773P8ufGbN_T",
        "colab_type": "code",
        "colab": {}
      },
      "source": [
        "import os\n",
        "os.chdir('data')"
      ],
      "execution_count": null,
      "outputs": []
    },
    {
      "cell_type": "code",
      "metadata": {
        "id": "HewMS0O-bQ1P",
        "colab_type": "code",
        "colab": {}
      },
      "source": [
        "#Importing all the necessary Libraries\n",
        "import numpy as np\n",
        "import os\n",
        "import pandas as pd\n",
        "import sys\n",
        "import matplotlib.pyplot as plt\n",
        "%matplotlib inline\n",
        "from sklearn.model_selection import train_test_split\n",
        "from sklearn.naive_bayes import MultinomialNB, BernoulliNB, GaussianNB\n",
        "from sklearn.svm import LinearSVC,SVC\n",
        "from sklearn.ensemble import RandomForestClassifier\n",
        "from sklearn.linear_model import SGDClassifier, LogisticRegression\n",
        "from sklearn.preprocessing import StandardScaler\n",
        "from sklearn.tree import DecisionTreeClassifier\n",
        "from sklearn.model_selection import cross_val_score,KFold\n",
        "from sklearn.metrics import confusion_matrix, f1_score, accuracy_score, roc_auc_score, recall_score, precision_score,make_scorer,classification_report,roc_curve\n",
        "import xgboost as xgb\n",
        "import os\n",
        "import warnings \n",
        "warnings.filterwarnings(\"ignore\")"
      ],
      "execution_count": null,
      "outputs": []
    },
    {
      "cell_type": "code",
      "metadata": {
        "id": "Q9BnzRqwbUBm",
        "colab_type": "code",
        "colab": {}
      },
      "source": [
        "##Loading all the CSV Files\n",
        "train = pd.read_csv('train.csv')\n",
        "coupon_item_mapping = pd.read_csv('coupon_item_mapping.csv')\n",
        "item_data  = pd.read_csv('item_data.csv')\n",
        "customer_demo = pd.read_csv('customer_demographics.csv')\n",
        "customer_trans= pd.read_csv('customer_transaction_data.csv')\n",
        "campaign_data = pd.read_csv('campaign_data.csv')"
      ],
      "execution_count": null,
      "outputs": []
    },
    {
      "cell_type": "code",
      "metadata": {
        "id": "0uAfn7YybXRg",
        "colab_type": "code",
        "colab": {
          "base_uri": "https://localhost:8080/",
          "height": 204
        },
        "outputId": "a098bc03-7dc9-4ec3-855b-25bf7b9d54e3"
      },
      "source": [
        "train.head()"
      ],
      "execution_count": null,
      "outputs": [
        {
          "output_type": "execute_result",
          "data": {
            "text/html": [
              "<div>\n",
              "<style scoped>\n",
              "    .dataframe tbody tr th:only-of-type {\n",
              "        vertical-align: middle;\n",
              "    }\n",
              "\n",
              "    .dataframe tbody tr th {\n",
              "        vertical-align: top;\n",
              "    }\n",
              "\n",
              "    .dataframe thead th {\n",
              "        text-align: right;\n",
              "    }\n",
              "</style>\n",
              "<table border=\"1\" class=\"dataframe\">\n",
              "  <thead>\n",
              "    <tr style=\"text-align: right;\">\n",
              "      <th></th>\n",
              "      <th>id</th>\n",
              "      <th>campaign_id</th>\n",
              "      <th>coupon_id</th>\n",
              "      <th>customer_id</th>\n",
              "      <th>redemption_status</th>\n",
              "    </tr>\n",
              "  </thead>\n",
              "  <tbody>\n",
              "    <tr>\n",
              "      <th>0</th>\n",
              "      <td>1</td>\n",
              "      <td>13</td>\n",
              "      <td>27</td>\n",
              "      <td>1053</td>\n",
              "      <td>0</td>\n",
              "    </tr>\n",
              "    <tr>\n",
              "      <th>1</th>\n",
              "      <td>2</td>\n",
              "      <td>13</td>\n",
              "      <td>116</td>\n",
              "      <td>48</td>\n",
              "      <td>0</td>\n",
              "    </tr>\n",
              "    <tr>\n",
              "      <th>2</th>\n",
              "      <td>6</td>\n",
              "      <td>9</td>\n",
              "      <td>635</td>\n",
              "      <td>205</td>\n",
              "      <td>0</td>\n",
              "    </tr>\n",
              "    <tr>\n",
              "      <th>3</th>\n",
              "      <td>7</td>\n",
              "      <td>13</td>\n",
              "      <td>644</td>\n",
              "      <td>1050</td>\n",
              "      <td>0</td>\n",
              "    </tr>\n",
              "    <tr>\n",
              "      <th>4</th>\n",
              "      <td>9</td>\n",
              "      <td>8</td>\n",
              "      <td>1017</td>\n",
              "      <td>1489</td>\n",
              "      <td>0</td>\n",
              "    </tr>\n",
              "  </tbody>\n",
              "</table>\n",
              "</div>"
            ],
            "text/plain": [
              "   id  campaign_id  coupon_id  customer_id  redemption_status\n",
              "0   1           13         27         1053                  0\n",
              "1   2           13        116           48                  0\n",
              "2   6            9        635          205                  0\n",
              "3   7           13        644         1050                  0\n",
              "4   9            8       1017         1489                  0"
            ]
          },
          "metadata": {
            "tags": []
          },
          "execution_count": 44
        }
      ]
    },
    {
      "cell_type": "code",
      "metadata": {
        "id": "22lKmhdKbkLH",
        "colab_type": "code",
        "colab": {
          "base_uri": "https://localhost:8080/",
          "height": 34
        },
        "outputId": "9ea1cddf-20de-4200-bf6e-d2339013bccd"
      },
      "source": [
        "train.shape"
      ],
      "execution_count": null,
      "outputs": [
        {
          "output_type": "execute_result",
          "data": {
            "text/plain": [
              "(78369, 5)"
            ]
          },
          "metadata": {
            "tags": []
          },
          "execution_count": 45
        }
      ]
    },
    {
      "cell_type": "code",
      "metadata": {
        "id": "nKmz44UkboJi",
        "colab_type": "code",
        "colab": {
          "base_uri": "https://localhost:8080/",
          "height": 204
        },
        "outputId": "ae8a214c-3a79-4091-8345-67eaeafc2b85"
      },
      "source": [
        "coupon_item_mapping.head()"
      ],
      "execution_count": null,
      "outputs": [
        {
          "output_type": "execute_result",
          "data": {
            "text/html": [
              "<div>\n",
              "<style scoped>\n",
              "    .dataframe tbody tr th:only-of-type {\n",
              "        vertical-align: middle;\n",
              "    }\n",
              "\n",
              "    .dataframe tbody tr th {\n",
              "        vertical-align: top;\n",
              "    }\n",
              "\n",
              "    .dataframe thead th {\n",
              "        text-align: right;\n",
              "    }\n",
              "</style>\n",
              "<table border=\"1\" class=\"dataframe\">\n",
              "  <thead>\n",
              "    <tr style=\"text-align: right;\">\n",
              "      <th></th>\n",
              "      <th>coupon_id</th>\n",
              "      <th>item_id</th>\n",
              "    </tr>\n",
              "  </thead>\n",
              "  <tbody>\n",
              "    <tr>\n",
              "      <th>0</th>\n",
              "      <td>105</td>\n",
              "      <td>37</td>\n",
              "    </tr>\n",
              "    <tr>\n",
              "      <th>1</th>\n",
              "      <td>107</td>\n",
              "      <td>75</td>\n",
              "    </tr>\n",
              "    <tr>\n",
              "      <th>2</th>\n",
              "      <td>494</td>\n",
              "      <td>76</td>\n",
              "    </tr>\n",
              "    <tr>\n",
              "      <th>3</th>\n",
              "      <td>522</td>\n",
              "      <td>77</td>\n",
              "    </tr>\n",
              "    <tr>\n",
              "      <th>4</th>\n",
              "      <td>518</td>\n",
              "      <td>77</td>\n",
              "    </tr>\n",
              "  </tbody>\n",
              "</table>\n",
              "</div>"
            ],
            "text/plain": [
              "   coupon_id  item_id\n",
              "0        105       37\n",
              "1        107       75\n",
              "2        494       76\n",
              "3        522       77\n",
              "4        518       77"
            ]
          },
          "metadata": {
            "tags": []
          },
          "execution_count": 46
        }
      ]
    },
    {
      "cell_type": "code",
      "metadata": {
        "id": "-yXajYy8buuM",
        "colab_type": "code",
        "colab": {
          "base_uri": "https://localhost:8080/",
          "height": 34
        },
        "outputId": "234780e8-b560-412b-ba04-5e6f21e398bb"
      },
      "source": [
        "coupon_item_mapping.shape"
      ],
      "execution_count": null,
      "outputs": [
        {
          "output_type": "execute_result",
          "data": {
            "text/plain": [
              "(92663, 2)"
            ]
          },
          "metadata": {
            "tags": []
          },
          "execution_count": 47
        }
      ]
    },
    {
      "cell_type": "code",
      "metadata": {
        "id": "GIeTYHKrb5Fb",
        "colab_type": "code",
        "colab": {
          "base_uri": "https://localhost:8080/",
          "height": 204
        },
        "outputId": "628a6208-4d96-4aa4-f76f-1ff3f238807b"
      },
      "source": [
        "customer_demo.head()"
      ],
      "execution_count": null,
      "outputs": [
        {
          "output_type": "execute_result",
          "data": {
            "text/html": [
              "<div>\n",
              "<style scoped>\n",
              "    .dataframe tbody tr th:only-of-type {\n",
              "        vertical-align: middle;\n",
              "    }\n",
              "\n",
              "    .dataframe tbody tr th {\n",
              "        vertical-align: top;\n",
              "    }\n",
              "\n",
              "    .dataframe thead th {\n",
              "        text-align: right;\n",
              "    }\n",
              "</style>\n",
              "<table border=\"1\" class=\"dataframe\">\n",
              "  <thead>\n",
              "    <tr style=\"text-align: right;\">\n",
              "      <th></th>\n",
              "      <th>customer_id</th>\n",
              "      <th>age_range</th>\n",
              "      <th>marital_status</th>\n",
              "      <th>rented</th>\n",
              "      <th>family_size</th>\n",
              "      <th>no_of_children</th>\n",
              "      <th>income_bracket</th>\n",
              "    </tr>\n",
              "  </thead>\n",
              "  <tbody>\n",
              "    <tr>\n",
              "      <th>0</th>\n",
              "      <td>1</td>\n",
              "      <td>70+</td>\n",
              "      <td>Married</td>\n",
              "      <td>0</td>\n",
              "      <td>2</td>\n",
              "      <td>NaN</td>\n",
              "      <td>4</td>\n",
              "    </tr>\n",
              "    <tr>\n",
              "      <th>1</th>\n",
              "      <td>6</td>\n",
              "      <td>46-55</td>\n",
              "      <td>Married</td>\n",
              "      <td>0</td>\n",
              "      <td>2</td>\n",
              "      <td>NaN</td>\n",
              "      <td>5</td>\n",
              "    </tr>\n",
              "    <tr>\n",
              "      <th>2</th>\n",
              "      <td>7</td>\n",
              "      <td>26-35</td>\n",
              "      <td>NaN</td>\n",
              "      <td>0</td>\n",
              "      <td>3</td>\n",
              "      <td>1</td>\n",
              "      <td>3</td>\n",
              "    </tr>\n",
              "    <tr>\n",
              "      <th>3</th>\n",
              "      <td>8</td>\n",
              "      <td>26-35</td>\n",
              "      <td>NaN</td>\n",
              "      <td>0</td>\n",
              "      <td>4</td>\n",
              "      <td>2</td>\n",
              "      <td>6</td>\n",
              "    </tr>\n",
              "    <tr>\n",
              "      <th>4</th>\n",
              "      <td>10</td>\n",
              "      <td>46-55</td>\n",
              "      <td>Single</td>\n",
              "      <td>0</td>\n",
              "      <td>1</td>\n",
              "      <td>NaN</td>\n",
              "      <td>5</td>\n",
              "    </tr>\n",
              "  </tbody>\n",
              "</table>\n",
              "</div>"
            ],
            "text/plain": [
              "   customer_id age_range  ... no_of_children  income_bracket\n",
              "0            1       70+  ...            NaN               4\n",
              "1            6     46-55  ...            NaN               5\n",
              "2            7     26-35  ...              1               3\n",
              "3            8     26-35  ...              2               6\n",
              "4           10     46-55  ...            NaN               5\n",
              "\n",
              "[5 rows x 7 columns]"
            ]
          },
          "metadata": {
            "tags": []
          },
          "execution_count": 48
        }
      ]
    },
    {
      "cell_type": "code",
      "metadata": {
        "id": "UmpJ1XTYb9dO",
        "colab_type": "code",
        "colab": {
          "base_uri": "https://localhost:8080/",
          "height": 34
        },
        "outputId": "416fdf04-d797-45f0-820b-c5e8033c42f1"
      },
      "source": [
        "customer_demo.shape"
      ],
      "execution_count": null,
      "outputs": [
        {
          "output_type": "execute_result",
          "data": {
            "text/plain": [
              "(760, 7)"
            ]
          },
          "metadata": {
            "tags": []
          },
          "execution_count": 49
        }
      ]
    },
    {
      "cell_type": "code",
      "metadata": {
        "id": "lRImqvmgb-5n",
        "colab_type": "code",
        "colab": {
          "base_uri": "https://localhost:8080/",
          "height": 204
        },
        "outputId": "51a6cbe1-768b-4289-ab1e-196c47da78c0"
      },
      "source": [
        "campaign_data.head()"
      ],
      "execution_count": null,
      "outputs": [
        {
          "output_type": "execute_result",
          "data": {
            "text/html": [
              "<div>\n",
              "<style scoped>\n",
              "    .dataframe tbody tr th:only-of-type {\n",
              "        vertical-align: middle;\n",
              "    }\n",
              "\n",
              "    .dataframe tbody tr th {\n",
              "        vertical-align: top;\n",
              "    }\n",
              "\n",
              "    .dataframe thead th {\n",
              "        text-align: right;\n",
              "    }\n",
              "</style>\n",
              "<table border=\"1\" class=\"dataframe\">\n",
              "  <thead>\n",
              "    <tr style=\"text-align: right;\">\n",
              "      <th></th>\n",
              "      <th>campaign_id</th>\n",
              "      <th>campaign_type</th>\n",
              "      <th>start_date</th>\n",
              "      <th>end_date</th>\n",
              "    </tr>\n",
              "  </thead>\n",
              "  <tbody>\n",
              "    <tr>\n",
              "      <th>0</th>\n",
              "      <td>24</td>\n",
              "      <td>Y</td>\n",
              "      <td>21/10/13</td>\n",
              "      <td>20/12/13</td>\n",
              "    </tr>\n",
              "    <tr>\n",
              "      <th>1</th>\n",
              "      <td>25</td>\n",
              "      <td>Y</td>\n",
              "      <td>21/10/13</td>\n",
              "      <td>22/11/13</td>\n",
              "    </tr>\n",
              "    <tr>\n",
              "      <th>2</th>\n",
              "      <td>20</td>\n",
              "      <td>Y</td>\n",
              "      <td>07/09/13</td>\n",
              "      <td>16/11/13</td>\n",
              "    </tr>\n",
              "    <tr>\n",
              "      <th>3</th>\n",
              "      <td>23</td>\n",
              "      <td>Y</td>\n",
              "      <td>08/10/13</td>\n",
              "      <td>15/11/13</td>\n",
              "    </tr>\n",
              "    <tr>\n",
              "      <th>4</th>\n",
              "      <td>21</td>\n",
              "      <td>Y</td>\n",
              "      <td>16/09/13</td>\n",
              "      <td>18/10/13</td>\n",
              "    </tr>\n",
              "  </tbody>\n",
              "</table>\n",
              "</div>"
            ],
            "text/plain": [
              "   campaign_id campaign_type start_date  end_date\n",
              "0           24             Y   21/10/13  20/12/13\n",
              "1           25             Y   21/10/13  22/11/13\n",
              "2           20             Y   07/09/13  16/11/13\n",
              "3           23             Y   08/10/13  15/11/13\n",
              "4           21             Y   16/09/13  18/10/13"
            ]
          },
          "metadata": {
            "tags": []
          },
          "execution_count": 50
        }
      ]
    },
    {
      "cell_type": "code",
      "metadata": {
        "id": "N4TqwH9ocDkq",
        "colab_type": "code",
        "colab": {
          "base_uri": "https://localhost:8080/",
          "height": 34
        },
        "outputId": "cccfe88c-2f19-435d-cf07-29031016dfc7"
      },
      "source": [
        "campaign_data.shape"
      ],
      "execution_count": null,
      "outputs": [
        {
          "output_type": "execute_result",
          "data": {
            "text/plain": [
              "(28, 4)"
            ]
          },
          "metadata": {
            "tags": []
          },
          "execution_count": 51
        }
      ]
    },
    {
      "cell_type": "code",
      "metadata": {
        "id": "9V5C5qqNcEki",
        "colab_type": "code",
        "colab": {
          "base_uri": "https://localhost:8080/",
          "height": 204
        },
        "outputId": "616ef7ef-a8a0-4dfb-9f1c-6e5ecfed14a9"
      },
      "source": [
        "customer_trans.head()"
      ],
      "execution_count": null,
      "outputs": [
        {
          "output_type": "execute_result",
          "data": {
            "text/html": [
              "<div>\n",
              "<style scoped>\n",
              "    .dataframe tbody tr th:only-of-type {\n",
              "        vertical-align: middle;\n",
              "    }\n",
              "\n",
              "    .dataframe tbody tr th {\n",
              "        vertical-align: top;\n",
              "    }\n",
              "\n",
              "    .dataframe thead th {\n",
              "        text-align: right;\n",
              "    }\n",
              "</style>\n",
              "<table border=\"1\" class=\"dataframe\">\n",
              "  <thead>\n",
              "    <tr style=\"text-align: right;\">\n",
              "      <th></th>\n",
              "      <th>date</th>\n",
              "      <th>customer_id</th>\n",
              "      <th>item_id</th>\n",
              "      <th>quantity</th>\n",
              "      <th>selling_price</th>\n",
              "      <th>other_discount</th>\n",
              "      <th>coupon_discount</th>\n",
              "    </tr>\n",
              "  </thead>\n",
              "  <tbody>\n",
              "    <tr>\n",
              "      <th>0</th>\n",
              "      <td>2012-01-02</td>\n",
              "      <td>1501</td>\n",
              "      <td>26830</td>\n",
              "      <td>1</td>\n",
              "      <td>35.26</td>\n",
              "      <td>-10.69</td>\n",
              "      <td>0.0</td>\n",
              "    </tr>\n",
              "    <tr>\n",
              "      <th>1</th>\n",
              "      <td>2012-01-02</td>\n",
              "      <td>1501</td>\n",
              "      <td>54253</td>\n",
              "      <td>1</td>\n",
              "      <td>53.43</td>\n",
              "      <td>-13.89</td>\n",
              "      <td>0.0</td>\n",
              "    </tr>\n",
              "    <tr>\n",
              "      <th>2</th>\n",
              "      <td>2012-01-02</td>\n",
              "      <td>1501</td>\n",
              "      <td>31962</td>\n",
              "      <td>1</td>\n",
              "      <td>106.50</td>\n",
              "      <td>-14.25</td>\n",
              "      <td>0.0</td>\n",
              "    </tr>\n",
              "    <tr>\n",
              "      <th>3</th>\n",
              "      <td>2012-01-02</td>\n",
              "      <td>1501</td>\n",
              "      <td>33647</td>\n",
              "      <td>1</td>\n",
              "      <td>67.32</td>\n",
              "      <td>0.00</td>\n",
              "      <td>0.0</td>\n",
              "    </tr>\n",
              "    <tr>\n",
              "      <th>4</th>\n",
              "      <td>2012-01-02</td>\n",
              "      <td>1501</td>\n",
              "      <td>48199</td>\n",
              "      <td>1</td>\n",
              "      <td>71.24</td>\n",
              "      <td>-28.14</td>\n",
              "      <td>0.0</td>\n",
              "    </tr>\n",
              "  </tbody>\n",
              "</table>\n",
              "</div>"
            ],
            "text/plain": [
              "         date  customer_id  ...  other_discount  coupon_discount\n",
              "0  2012-01-02         1501  ...          -10.69              0.0\n",
              "1  2012-01-02         1501  ...          -13.89              0.0\n",
              "2  2012-01-02         1501  ...          -14.25              0.0\n",
              "3  2012-01-02         1501  ...            0.00              0.0\n",
              "4  2012-01-02         1501  ...          -28.14              0.0\n",
              "\n",
              "[5 rows x 7 columns]"
            ]
          },
          "metadata": {
            "tags": []
          },
          "execution_count": 52
        }
      ]
    },
    {
      "cell_type": "code",
      "metadata": {
        "id": "7zEtLUBzcVxc",
        "colab_type": "code",
        "colab": {
          "base_uri": "https://localhost:8080/",
          "height": 34
        },
        "outputId": "565e1a58-d005-48e2-b2c9-357988061c90"
      },
      "source": [
        "customer_trans.shape"
      ],
      "execution_count": null,
      "outputs": [
        {
          "output_type": "execute_result",
          "data": {
            "text/plain": [
              "(1324566, 7)"
            ]
          },
          "metadata": {
            "tags": []
          },
          "execution_count": 53
        }
      ]
    },
    {
      "cell_type": "code",
      "metadata": {
        "id": "B5FEVFawcZtf",
        "colab_type": "code",
        "colab": {}
      },
      "source": [
        "#Adding a new column to get the actual price.\n",
        "customer_trans['actual_price'] = customer_trans['selling_price'] - customer_trans['other_discount'] - customer_trans['coupon_discount']"
      ],
      "execution_count": null,
      "outputs": []
    },
    {
      "cell_type": "code",
      "metadata": {
        "id": "ENqOrX4odcKd",
        "colab_type": "code",
        "colab": {
          "base_uri": "https://localhost:8080/",
          "height": 204
        },
        "outputId": "ecb75b8d-b629-445a-e989-9e77e29b9164"
      },
      "source": [
        "customer_trans.head()"
      ],
      "execution_count": null,
      "outputs": [
        {
          "output_type": "execute_result",
          "data": {
            "text/html": [
              "<div>\n",
              "<style scoped>\n",
              "    .dataframe tbody tr th:only-of-type {\n",
              "        vertical-align: middle;\n",
              "    }\n",
              "\n",
              "    .dataframe tbody tr th {\n",
              "        vertical-align: top;\n",
              "    }\n",
              "\n",
              "    .dataframe thead th {\n",
              "        text-align: right;\n",
              "    }\n",
              "</style>\n",
              "<table border=\"1\" class=\"dataframe\">\n",
              "  <thead>\n",
              "    <tr style=\"text-align: right;\">\n",
              "      <th></th>\n",
              "      <th>date</th>\n",
              "      <th>customer_id</th>\n",
              "      <th>item_id</th>\n",
              "      <th>quantity</th>\n",
              "      <th>selling_price</th>\n",
              "      <th>other_discount</th>\n",
              "      <th>coupon_discount</th>\n",
              "      <th>actual_price</th>\n",
              "    </tr>\n",
              "  </thead>\n",
              "  <tbody>\n",
              "    <tr>\n",
              "      <th>0</th>\n",
              "      <td>2012-01-02</td>\n",
              "      <td>1501</td>\n",
              "      <td>26830</td>\n",
              "      <td>1</td>\n",
              "      <td>35.26</td>\n",
              "      <td>-10.69</td>\n",
              "      <td>0.0</td>\n",
              "      <td>45.95</td>\n",
              "    </tr>\n",
              "    <tr>\n",
              "      <th>1</th>\n",
              "      <td>2012-01-02</td>\n",
              "      <td>1501</td>\n",
              "      <td>54253</td>\n",
              "      <td>1</td>\n",
              "      <td>53.43</td>\n",
              "      <td>-13.89</td>\n",
              "      <td>0.0</td>\n",
              "      <td>67.32</td>\n",
              "    </tr>\n",
              "    <tr>\n",
              "      <th>2</th>\n",
              "      <td>2012-01-02</td>\n",
              "      <td>1501</td>\n",
              "      <td>31962</td>\n",
              "      <td>1</td>\n",
              "      <td>106.50</td>\n",
              "      <td>-14.25</td>\n",
              "      <td>0.0</td>\n",
              "      <td>120.75</td>\n",
              "    </tr>\n",
              "    <tr>\n",
              "      <th>3</th>\n",
              "      <td>2012-01-02</td>\n",
              "      <td>1501</td>\n",
              "      <td>33647</td>\n",
              "      <td>1</td>\n",
              "      <td>67.32</td>\n",
              "      <td>0.00</td>\n",
              "      <td>0.0</td>\n",
              "      <td>67.32</td>\n",
              "    </tr>\n",
              "    <tr>\n",
              "      <th>4</th>\n",
              "      <td>2012-01-02</td>\n",
              "      <td>1501</td>\n",
              "      <td>48199</td>\n",
              "      <td>1</td>\n",
              "      <td>71.24</td>\n",
              "      <td>-28.14</td>\n",
              "      <td>0.0</td>\n",
              "      <td>99.38</td>\n",
              "    </tr>\n",
              "  </tbody>\n",
              "</table>\n",
              "</div>"
            ],
            "text/plain": [
              "         date  customer_id  ...  coupon_discount  actual_price\n",
              "0  2012-01-02         1501  ...              0.0         45.95\n",
              "1  2012-01-02         1501  ...              0.0         67.32\n",
              "2  2012-01-02         1501  ...              0.0        120.75\n",
              "3  2012-01-02         1501  ...              0.0         67.32\n",
              "4  2012-01-02         1501  ...              0.0         99.38\n",
              "\n",
              "[5 rows x 8 columns]"
            ]
          },
          "metadata": {
            "tags": []
          },
          "execution_count": 55
        }
      ]
    },
    {
      "cell_type": "code",
      "metadata": {
        "id": "SOkeSn-xdedV",
        "colab_type": "code",
        "colab": {}
      },
      "source": [
        "customer_demo['no_of_children'].fillna(0, inplace=True)\n",
        "customer_demo['marital_status'].fillna('other', inplace=True)"
      ],
      "execution_count": null,
      "outputs": []
    },
    {
      "cell_type": "code",
      "metadata": {
        "id": "tFMjrIGld8T4",
        "colab_type": "code",
        "colab": {
          "base_uri": "https://localhost:8080/",
          "height": 204
        },
        "outputId": "13153e51-0294-4c4a-c1f9-fddeff70ad79"
      },
      "source": [
        "customer_demo.head()"
      ],
      "execution_count": null,
      "outputs": [
        {
          "output_type": "execute_result",
          "data": {
            "text/html": [
              "<div>\n",
              "<style scoped>\n",
              "    .dataframe tbody tr th:only-of-type {\n",
              "        vertical-align: middle;\n",
              "    }\n",
              "\n",
              "    .dataframe tbody tr th {\n",
              "        vertical-align: top;\n",
              "    }\n",
              "\n",
              "    .dataframe thead th {\n",
              "        text-align: right;\n",
              "    }\n",
              "</style>\n",
              "<table border=\"1\" class=\"dataframe\">\n",
              "  <thead>\n",
              "    <tr style=\"text-align: right;\">\n",
              "      <th></th>\n",
              "      <th>customer_id</th>\n",
              "      <th>age_range</th>\n",
              "      <th>marital_status</th>\n",
              "      <th>rented</th>\n",
              "      <th>family_size</th>\n",
              "      <th>no_of_children</th>\n",
              "      <th>income_bracket</th>\n",
              "    </tr>\n",
              "  </thead>\n",
              "  <tbody>\n",
              "    <tr>\n",
              "      <th>0</th>\n",
              "      <td>1</td>\n",
              "      <td>70+</td>\n",
              "      <td>Married</td>\n",
              "      <td>0</td>\n",
              "      <td>2</td>\n",
              "      <td>0</td>\n",
              "      <td>4</td>\n",
              "    </tr>\n",
              "    <tr>\n",
              "      <th>1</th>\n",
              "      <td>6</td>\n",
              "      <td>46-55</td>\n",
              "      <td>Married</td>\n",
              "      <td>0</td>\n",
              "      <td>2</td>\n",
              "      <td>0</td>\n",
              "      <td>5</td>\n",
              "    </tr>\n",
              "    <tr>\n",
              "      <th>2</th>\n",
              "      <td>7</td>\n",
              "      <td>26-35</td>\n",
              "      <td>other</td>\n",
              "      <td>0</td>\n",
              "      <td>3</td>\n",
              "      <td>1</td>\n",
              "      <td>3</td>\n",
              "    </tr>\n",
              "    <tr>\n",
              "      <th>3</th>\n",
              "      <td>8</td>\n",
              "      <td>26-35</td>\n",
              "      <td>other</td>\n",
              "      <td>0</td>\n",
              "      <td>4</td>\n",
              "      <td>2</td>\n",
              "      <td>6</td>\n",
              "    </tr>\n",
              "    <tr>\n",
              "      <th>4</th>\n",
              "      <td>10</td>\n",
              "      <td>46-55</td>\n",
              "      <td>Single</td>\n",
              "      <td>0</td>\n",
              "      <td>1</td>\n",
              "      <td>0</td>\n",
              "      <td>5</td>\n",
              "    </tr>\n",
              "  </tbody>\n",
              "</table>\n",
              "</div>"
            ],
            "text/plain": [
              "   customer_id age_range  ... no_of_children  income_bracket\n",
              "0            1       70+  ...              0               4\n",
              "1            6     46-55  ...              0               5\n",
              "2            7     26-35  ...              1               3\n",
              "3            8     26-35  ...              2               6\n",
              "4           10     46-55  ...              0               5\n",
              "\n",
              "[5 rows x 7 columns]"
            ]
          },
          "metadata": {
            "tags": []
          },
          "execution_count": 57
        }
      ]
    },
    {
      "cell_type": "code",
      "metadata": {
        "id": "U5PvDa-md_8Z",
        "colab_type": "code",
        "colab": {}
      },
      "source": [
        "cat_agg=['count','nunique']\n",
        "num_agg=['min','max','mean','sum']\n",
        "agg_col={\n",
        "    'quantity':num_agg, 'selling_price':num_agg, 'other_discount':num_agg,'coupon_discount':num_agg,\n",
        "       'brand':cat_agg, 'brand_type':cat_agg, 'category':cat_agg, 'age_range':cat_agg, 'marital_status':cat_agg,\n",
        "    'rented':cat_agg, 'family_size':cat_agg, 'no_of_children':cat_agg, 'income_bracket':cat_agg\n",
        "}\n",
        "customer_trans = customer_trans.merge(item_data,how='left',on='item_id').merge(customer_demo,how='left',on='customer_id').groupby('customer_id').agg(agg_col).reset_index()"
      ],
      "execution_count": null,
      "outputs": []
    },
    {
      "cell_type": "code",
      "metadata": {
        "id": "E9XpsUV5eo1h",
        "colab_type": "code",
        "colab": {}
      },
      "source": [
        "cat_agg=['count','nunique']\n",
        "num_agg=['min','max','mean','sum']\n",
        "agg_col={ 'brand':cat_agg, 'brand_type':cat_agg, 'category':cat_agg\n",
        "}\n",
        "coupon_item= coupon_item_mapping.merge(item_data,how='left',on='item_id').groupby('coupon_id').agg(agg_col).reset_index()"
      ],
      "execution_count": null,
      "outputs": []
    },
    {
      "cell_type": "code",
      "metadata": {
        "id": "hwcUUDJ4fERC",
        "colab_type": "code",
        "colab": {}
      },
      "source": [
        "def merge_df(df):\n",
        "  df = df.merge(campaign_data, on='campaign_id', how='left')\n",
        "  df = df.merge(coupon_item, on='coupon_id', how='left')\n",
        "  df = df.merge(customer_trans, on='customer_id', how='left')\n",
        "  return df\n"
      ],
      "execution_count": null,
      "outputs": []
    },
    {
      "cell_type": "code",
      "metadata": {
        "id": "Pjf58dJOf0NM",
        "colab_type": "code",
        "colab": {}
      },
      "source": [
        "train_df = merge_df(train.copy())"
      ],
      "execution_count": null,
      "outputs": []
    },
    {
      "cell_type": "code",
      "metadata": {
        "id": "ODOuddBbgDhw",
        "colab_type": "code",
        "colab": {
          "base_uri": "https://localhost:8080/",
          "height": 68
        },
        "outputId": "4c5f4f7e-ce50-4536-dd85-6c87afe41d4e"
      },
      "source": [
        "train_df['redemption_status'].value_counts()"
      ],
      "execution_count": null,
      "outputs": [
        {
          "output_type": "execute_result",
          "data": {
            "text/plain": [
              "0    77640\n",
              "1      729\n",
              "Name: redemption_status, dtype: int64"
            ]
          },
          "metadata": {
            "tags": []
          },
          "execution_count": 62
        }
      ]
    },
    {
      "cell_type": "code",
      "metadata": {
        "id": "-YRPB-T6ghsn",
        "colab_type": "code",
        "colab": {
          "base_uri": "https://localhost:8080/",
          "height": 241
        },
        "outputId": "8f305372-995d-4caf-b6d5-1c64e45c3cac"
      },
      "source": [
        "train_df.head()"
      ],
      "execution_count": null,
      "outputs": [
        {
          "output_type": "execute_result",
          "data": {
            "text/html": [
              "<div>\n",
              "<style scoped>\n",
              "    .dataframe tbody tr th:only-of-type {\n",
              "        vertical-align: middle;\n",
              "    }\n",
              "\n",
              "    .dataframe tbody tr th {\n",
              "        vertical-align: top;\n",
              "    }\n",
              "\n",
              "    .dataframe thead th {\n",
              "        text-align: right;\n",
              "    }\n",
              "</style>\n",
              "<table border=\"1\" class=\"dataframe\">\n",
              "  <thead>\n",
              "    <tr style=\"text-align: right;\">\n",
              "      <th></th>\n",
              "      <th>id</th>\n",
              "      <th>campaign_id</th>\n",
              "      <th>coupon_id</th>\n",
              "      <th>customer_id</th>\n",
              "      <th>redemption_status</th>\n",
              "      <th>campaign_type</th>\n",
              "      <th>start_date</th>\n",
              "      <th>end_date</th>\n",
              "      <th>('brand', 'count')_x</th>\n",
              "      <th>('brand', 'nunique')_x</th>\n",
              "      <th>('brand_type', 'count')_x</th>\n",
              "      <th>('brand_type', 'nunique')_x</th>\n",
              "      <th>('category', 'count')_x</th>\n",
              "      <th>('category', 'nunique')_x</th>\n",
              "      <th>(quantity, min)</th>\n",
              "      <th>(quantity, max)</th>\n",
              "      <th>(quantity, mean)</th>\n",
              "      <th>(quantity, sum)</th>\n",
              "      <th>(selling_price, min)</th>\n",
              "      <th>(selling_price, max)</th>\n",
              "      <th>(selling_price, mean)</th>\n",
              "      <th>(selling_price, sum)</th>\n",
              "      <th>(other_discount, min)</th>\n",
              "      <th>(other_discount, max)</th>\n",
              "      <th>(other_discount, mean)</th>\n",
              "      <th>(other_discount, sum)</th>\n",
              "      <th>(coupon_discount, min)</th>\n",
              "      <th>(coupon_discount, max)</th>\n",
              "      <th>(coupon_discount, mean)</th>\n",
              "      <th>(coupon_discount, sum)</th>\n",
              "      <th>(brand_y, count)</th>\n",
              "      <th>(brand_y, nunique)</th>\n",
              "      <th>(brand_type_y, count)</th>\n",
              "      <th>(brand_type_y, nunique)</th>\n",
              "      <th>(category_y, count)</th>\n",
              "      <th>(category_y, nunique)</th>\n",
              "      <th>(age_range, count)</th>\n",
              "      <th>(age_range, nunique)</th>\n",
              "      <th>(marital_status, count)</th>\n",
              "      <th>(marital_status, nunique)</th>\n",
              "      <th>(rented, count)</th>\n",
              "      <th>(rented, nunique)</th>\n",
              "      <th>(family_size, count)</th>\n",
              "      <th>(family_size, nunique)</th>\n",
              "      <th>(no_of_children, count)</th>\n",
              "      <th>(no_of_children, nunique)</th>\n",
              "      <th>(income_bracket, count)</th>\n",
              "      <th>(income_bracket, nunique)</th>\n",
              "    </tr>\n",
              "  </thead>\n",
              "  <tbody>\n",
              "    <tr>\n",
              "      <th>0</th>\n",
              "      <td>1</td>\n",
              "      <td>13</td>\n",
              "      <td>27</td>\n",
              "      <td>1053</td>\n",
              "      <td>0</td>\n",
              "      <td>X</td>\n",
              "      <td>19/05/13</td>\n",
              "      <td>05/07/13</td>\n",
              "      <td>125</td>\n",
              "      <td>2</td>\n",
              "      <td>125</td>\n",
              "      <td>1</td>\n",
              "      <td>125</td>\n",
              "      <td>1</td>\n",
              "      <td>1</td>\n",
              "      <td>12444</td>\n",
              "      <td>340.487097</td>\n",
              "      <td>105551</td>\n",
              "      <td>17.45</td>\n",
              "      <td>5164.54</td>\n",
              "      <td>184.260484</td>\n",
              "      <td>57120.75</td>\n",
              "      <td>-890.50</td>\n",
              "      <td>0.0</td>\n",
              "      <td>-33.168935</td>\n",
              "      <td>-10282.37</td>\n",
              "      <td>-89.05</td>\n",
              "      <td>0.0</td>\n",
              "      <td>-0.287258</td>\n",
              "      <td>-89.05</td>\n",
              "      <td>310</td>\n",
              "      <td>84</td>\n",
              "      <td>310</td>\n",
              "      <td>2</td>\n",
              "      <td>310</td>\n",
              "      <td>8</td>\n",
              "      <td>310</td>\n",
              "      <td>1</td>\n",
              "      <td>310</td>\n",
              "      <td>1</td>\n",
              "      <td>310</td>\n",
              "      <td>1</td>\n",
              "      <td>310</td>\n",
              "      <td>1</td>\n",
              "      <td>310</td>\n",
              "      <td>1</td>\n",
              "      <td>310</td>\n",
              "      <td>1</td>\n",
              "    </tr>\n",
              "    <tr>\n",
              "      <th>1</th>\n",
              "      <td>2</td>\n",
              "      <td>13</td>\n",
              "      <td>116</td>\n",
              "      <td>48</td>\n",
              "      <td>0</td>\n",
              "      <td>X</td>\n",
              "      <td>19/05/13</td>\n",
              "      <td>05/07/13</td>\n",
              "      <td>3</td>\n",
              "      <td>1</td>\n",
              "      <td>3</td>\n",
              "      <td>1</td>\n",
              "      <td>3</td>\n",
              "      <td>1</td>\n",
              "      <td>1</td>\n",
              "      <td>11586</td>\n",
              "      <td>31.540260</td>\n",
              "      <td>12143</td>\n",
              "      <td>7.12</td>\n",
              "      <td>1758.92</td>\n",
              "      <td>234.247013</td>\n",
              "      <td>90185.10</td>\n",
              "      <td>-372.23</td>\n",
              "      <td>0.0</td>\n",
              "      <td>-27.699169</td>\n",
              "      <td>-10664.18</td>\n",
              "      <td>-213.72</td>\n",
              "      <td>0.0</td>\n",
              "      <td>-3.215039</td>\n",
              "      <td>-1237.79</td>\n",
              "      <td>385</td>\n",
              "      <td>102</td>\n",
              "      <td>385</td>\n",
              "      <td>2</td>\n",
              "      <td>385</td>\n",
              "      <td>12</td>\n",
              "      <td>385</td>\n",
              "      <td>1</td>\n",
              "      <td>385</td>\n",
              "      <td>1</td>\n",
              "      <td>385</td>\n",
              "      <td>1</td>\n",
              "      <td>385</td>\n",
              "      <td>1</td>\n",
              "      <td>385</td>\n",
              "      <td>1</td>\n",
              "      <td>385</td>\n",
              "      <td>1</td>\n",
              "    </tr>\n",
              "    <tr>\n",
              "      <th>2</th>\n",
              "      <td>6</td>\n",
              "      <td>9</td>\n",
              "      <td>635</td>\n",
              "      <td>205</td>\n",
              "      <td>0</td>\n",
              "      <td>Y</td>\n",
              "      <td>11/03/13</td>\n",
              "      <td>12/04/13</td>\n",
              "      <td>67</td>\n",
              "      <td>1</td>\n",
              "      <td>67</td>\n",
              "      <td>1</td>\n",
              "      <td>67</td>\n",
              "      <td>1</td>\n",
              "      <td>1</td>\n",
              "      <td>10</td>\n",
              "      <td>1.392784</td>\n",
              "      <td>1351</td>\n",
              "      <td>17.45</td>\n",
              "      <td>1056.13</td>\n",
              "      <td>121.094495</td>\n",
              "      <td>117461.66</td>\n",
              "      <td>-468.05</td>\n",
              "      <td>0.0</td>\n",
              "      <td>-17.795660</td>\n",
              "      <td>-17261.79</td>\n",
              "      <td>-89.05</td>\n",
              "      <td>0.0</td>\n",
              "      <td>-2.212082</td>\n",
              "      <td>-2145.72</td>\n",
              "      <td>970</td>\n",
              "      <td>186</td>\n",
              "      <td>970</td>\n",
              "      <td>2</td>\n",
              "      <td>970</td>\n",
              "      <td>11</td>\n",
              "      <td>970</td>\n",
              "      <td>1</td>\n",
              "      <td>970</td>\n",
              "      <td>1</td>\n",
              "      <td>970</td>\n",
              "      <td>1</td>\n",
              "      <td>970</td>\n",
              "      <td>1</td>\n",
              "      <td>970</td>\n",
              "      <td>1</td>\n",
              "      <td>970</td>\n",
              "      <td>1</td>\n",
              "    </tr>\n",
              "    <tr>\n",
              "      <th>3</th>\n",
              "      <td>7</td>\n",
              "      <td>13</td>\n",
              "      <td>644</td>\n",
              "      <td>1050</td>\n",
              "      <td>0</td>\n",
              "      <td>X</td>\n",
              "      <td>19/05/13</td>\n",
              "      <td>05/07/13</td>\n",
              "      <td>4</td>\n",
              "      <td>1</td>\n",
              "      <td>4</td>\n",
              "      <td>1</td>\n",
              "      <td>4</td>\n",
              "      <td>1</td>\n",
              "      <td>1</td>\n",
              "      <td>5</td>\n",
              "      <td>1.291139</td>\n",
              "      <td>306</td>\n",
              "      <td>13.89</td>\n",
              "      <td>708.48</td>\n",
              "      <td>98.276034</td>\n",
              "      <td>23291.42</td>\n",
              "      <td>-312.03</td>\n",
              "      <td>0.0</td>\n",
              "      <td>-16.655570</td>\n",
              "      <td>-3947.37</td>\n",
              "      <td>-89.05</td>\n",
              "      <td>0.0</td>\n",
              "      <td>-0.751477</td>\n",
              "      <td>-178.10</td>\n",
              "      <td>237</td>\n",
              "      <td>73</td>\n",
              "      <td>237</td>\n",
              "      <td>2</td>\n",
              "      <td>237</td>\n",
              "      <td>8</td>\n",
              "      <td>0</td>\n",
              "      <td>0</td>\n",
              "      <td>0</td>\n",
              "      <td>0</td>\n",
              "      <td>0</td>\n",
              "      <td>0</td>\n",
              "      <td>0</td>\n",
              "      <td>0</td>\n",
              "      <td>0</td>\n",
              "      <td>0</td>\n",
              "      <td>0</td>\n",
              "      <td>0</td>\n",
              "    </tr>\n",
              "    <tr>\n",
              "      <th>4</th>\n",
              "      <td>9</td>\n",
              "      <td>8</td>\n",
              "      <td>1017</td>\n",
              "      <td>1489</td>\n",
              "      <td>0</td>\n",
              "      <td>X</td>\n",
              "      <td>16/02/13</td>\n",
              "      <td>05/04/13</td>\n",
              "      <td>32</td>\n",
              "      <td>1</td>\n",
              "      <td>32</td>\n",
              "      <td>1</td>\n",
              "      <td>32</td>\n",
              "      <td>1</td>\n",
              "      <td>1</td>\n",
              "      <td>15420</td>\n",
              "      <td>247.443060</td>\n",
              "      <td>139063</td>\n",
              "      <td>8.90</td>\n",
              "      <td>1424.80</td>\n",
              "      <td>120.636103</td>\n",
              "      <td>67797.49</td>\n",
              "      <td>-320.22</td>\n",
              "      <td>0.0</td>\n",
              "      <td>-20.524733</td>\n",
              "      <td>-11534.90</td>\n",
              "      <td>-53.43</td>\n",
              "      <td>0.0</td>\n",
              "      <td>-0.471548</td>\n",
              "      <td>-265.01</td>\n",
              "      <td>562</td>\n",
              "      <td>106</td>\n",
              "      <td>562</td>\n",
              "      <td>2</td>\n",
              "      <td>562</td>\n",
              "      <td>8</td>\n",
              "      <td>562</td>\n",
              "      <td>1</td>\n",
              "      <td>562</td>\n",
              "      <td>1</td>\n",
              "      <td>562</td>\n",
              "      <td>1</td>\n",
              "      <td>562</td>\n",
              "      <td>1</td>\n",
              "      <td>562</td>\n",
              "      <td>1</td>\n",
              "      <td>562</td>\n",
              "      <td>1</td>\n",
              "    </tr>\n",
              "  </tbody>\n",
              "</table>\n",
              "</div>"
            ],
            "text/plain": [
              "   id  campaign_id  ...  (income_bracket, count)  (income_bracket, nunique)\n",
              "0   1           13  ...                      310                          1\n",
              "1   2           13  ...                      385                          1\n",
              "2   6            9  ...                      970                          1\n",
              "3   7           13  ...                        0                          0\n",
              "4   9            8  ...                      562                          1\n",
              "\n",
              "[5 rows x 48 columns]"
            ]
          },
          "metadata": {
            "tags": []
          },
          "execution_count": 63
        }
      ]
    },
    {
      "cell_type": "code",
      "metadata": {
        "id": "r6DUOB4RgnsU",
        "colab_type": "code",
        "colab": {}
      },
      "source": [
        "##Label Encoding the categorical features\n",
        "from sklearn.preprocessing import LabelEncoder\n",
        "lb = LabelEncoder()\n",
        "for i in train.columns:\n",
        "  train_df['campaign_type'] = lb.fit_transform(train_df['campaign_type'])\n"
      ],
      "execution_count": null,
      "outputs": []
    },
    {
      "cell_type": "code",
      "metadata": {
        "id": "M0v1sBiUjN4B",
        "colab_type": "code",
        "colab": {
          "base_uri": "https://localhost:8080/",
          "height": 241
        },
        "outputId": "9a088164-92e8-48b9-e679-af4e779c0cdc"
      },
      "source": [
        "train_df.head()"
      ],
      "execution_count": null,
      "outputs": [
        {
          "output_type": "execute_result",
          "data": {
            "text/html": [
              "<div>\n",
              "<style scoped>\n",
              "    .dataframe tbody tr th:only-of-type {\n",
              "        vertical-align: middle;\n",
              "    }\n",
              "\n",
              "    .dataframe tbody tr th {\n",
              "        vertical-align: top;\n",
              "    }\n",
              "\n",
              "    .dataframe thead th {\n",
              "        text-align: right;\n",
              "    }\n",
              "</style>\n",
              "<table border=\"1\" class=\"dataframe\">\n",
              "  <thead>\n",
              "    <tr style=\"text-align: right;\">\n",
              "      <th></th>\n",
              "      <th>id</th>\n",
              "      <th>campaign_id</th>\n",
              "      <th>coupon_id</th>\n",
              "      <th>customer_id</th>\n",
              "      <th>redemption_status</th>\n",
              "      <th>campaign_type</th>\n",
              "      <th>start_date</th>\n",
              "      <th>end_date</th>\n",
              "      <th>('brand', 'count')_x</th>\n",
              "      <th>('brand', 'nunique')_x</th>\n",
              "      <th>('brand_type', 'count')_x</th>\n",
              "      <th>('brand_type', 'nunique')_x</th>\n",
              "      <th>('category', 'count')_x</th>\n",
              "      <th>('category', 'nunique')_x</th>\n",
              "      <th>(quantity, min)</th>\n",
              "      <th>(quantity, max)</th>\n",
              "      <th>(quantity, mean)</th>\n",
              "      <th>(quantity, sum)</th>\n",
              "      <th>(selling_price, min)</th>\n",
              "      <th>(selling_price, max)</th>\n",
              "      <th>(selling_price, mean)</th>\n",
              "      <th>(selling_price, sum)</th>\n",
              "      <th>(other_discount, min)</th>\n",
              "      <th>(other_discount, max)</th>\n",
              "      <th>(other_discount, mean)</th>\n",
              "      <th>(other_discount, sum)</th>\n",
              "      <th>(coupon_discount, min)</th>\n",
              "      <th>(coupon_discount, max)</th>\n",
              "      <th>(coupon_discount, mean)</th>\n",
              "      <th>(coupon_discount, sum)</th>\n",
              "      <th>(brand_y, count)</th>\n",
              "      <th>(brand_y, nunique)</th>\n",
              "      <th>(brand_type_y, count)</th>\n",
              "      <th>(brand_type_y, nunique)</th>\n",
              "      <th>(category_y, count)</th>\n",
              "      <th>(category_y, nunique)</th>\n",
              "      <th>(age_range, count)</th>\n",
              "      <th>(age_range, nunique)</th>\n",
              "      <th>(marital_status, count)</th>\n",
              "      <th>(marital_status, nunique)</th>\n",
              "      <th>(rented, count)</th>\n",
              "      <th>(rented, nunique)</th>\n",
              "      <th>(family_size, count)</th>\n",
              "      <th>(family_size, nunique)</th>\n",
              "      <th>(no_of_children, count)</th>\n",
              "      <th>(no_of_children, nunique)</th>\n",
              "      <th>(income_bracket, count)</th>\n",
              "      <th>(income_bracket, nunique)</th>\n",
              "    </tr>\n",
              "  </thead>\n",
              "  <tbody>\n",
              "    <tr>\n",
              "      <th>0</th>\n",
              "      <td>1</td>\n",
              "      <td>13</td>\n",
              "      <td>27</td>\n",
              "      <td>1053</td>\n",
              "      <td>0</td>\n",
              "      <td>0</td>\n",
              "      <td>19/05/13</td>\n",
              "      <td>05/07/13</td>\n",
              "      <td>125</td>\n",
              "      <td>2</td>\n",
              "      <td>125</td>\n",
              "      <td>1</td>\n",
              "      <td>125</td>\n",
              "      <td>1</td>\n",
              "      <td>1</td>\n",
              "      <td>12444</td>\n",
              "      <td>340.487097</td>\n",
              "      <td>105551</td>\n",
              "      <td>17.45</td>\n",
              "      <td>5164.54</td>\n",
              "      <td>184.260484</td>\n",
              "      <td>57120.75</td>\n",
              "      <td>-890.50</td>\n",
              "      <td>0.0</td>\n",
              "      <td>-33.168935</td>\n",
              "      <td>-10282.37</td>\n",
              "      <td>-89.05</td>\n",
              "      <td>0.0</td>\n",
              "      <td>-0.287258</td>\n",
              "      <td>-89.05</td>\n",
              "      <td>310</td>\n",
              "      <td>84</td>\n",
              "      <td>310</td>\n",
              "      <td>2</td>\n",
              "      <td>310</td>\n",
              "      <td>8</td>\n",
              "      <td>310</td>\n",
              "      <td>1</td>\n",
              "      <td>310</td>\n",
              "      <td>1</td>\n",
              "      <td>310</td>\n",
              "      <td>1</td>\n",
              "      <td>310</td>\n",
              "      <td>1</td>\n",
              "      <td>310</td>\n",
              "      <td>1</td>\n",
              "      <td>310</td>\n",
              "      <td>1</td>\n",
              "    </tr>\n",
              "    <tr>\n",
              "      <th>1</th>\n",
              "      <td>2</td>\n",
              "      <td>13</td>\n",
              "      <td>116</td>\n",
              "      <td>48</td>\n",
              "      <td>0</td>\n",
              "      <td>0</td>\n",
              "      <td>19/05/13</td>\n",
              "      <td>05/07/13</td>\n",
              "      <td>3</td>\n",
              "      <td>1</td>\n",
              "      <td>3</td>\n",
              "      <td>1</td>\n",
              "      <td>3</td>\n",
              "      <td>1</td>\n",
              "      <td>1</td>\n",
              "      <td>11586</td>\n",
              "      <td>31.540260</td>\n",
              "      <td>12143</td>\n",
              "      <td>7.12</td>\n",
              "      <td>1758.92</td>\n",
              "      <td>234.247013</td>\n",
              "      <td>90185.10</td>\n",
              "      <td>-372.23</td>\n",
              "      <td>0.0</td>\n",
              "      <td>-27.699169</td>\n",
              "      <td>-10664.18</td>\n",
              "      <td>-213.72</td>\n",
              "      <td>0.0</td>\n",
              "      <td>-3.215039</td>\n",
              "      <td>-1237.79</td>\n",
              "      <td>385</td>\n",
              "      <td>102</td>\n",
              "      <td>385</td>\n",
              "      <td>2</td>\n",
              "      <td>385</td>\n",
              "      <td>12</td>\n",
              "      <td>385</td>\n",
              "      <td>1</td>\n",
              "      <td>385</td>\n",
              "      <td>1</td>\n",
              "      <td>385</td>\n",
              "      <td>1</td>\n",
              "      <td>385</td>\n",
              "      <td>1</td>\n",
              "      <td>385</td>\n",
              "      <td>1</td>\n",
              "      <td>385</td>\n",
              "      <td>1</td>\n",
              "    </tr>\n",
              "    <tr>\n",
              "      <th>2</th>\n",
              "      <td>6</td>\n",
              "      <td>9</td>\n",
              "      <td>635</td>\n",
              "      <td>205</td>\n",
              "      <td>0</td>\n",
              "      <td>1</td>\n",
              "      <td>11/03/13</td>\n",
              "      <td>12/04/13</td>\n",
              "      <td>67</td>\n",
              "      <td>1</td>\n",
              "      <td>67</td>\n",
              "      <td>1</td>\n",
              "      <td>67</td>\n",
              "      <td>1</td>\n",
              "      <td>1</td>\n",
              "      <td>10</td>\n",
              "      <td>1.392784</td>\n",
              "      <td>1351</td>\n",
              "      <td>17.45</td>\n",
              "      <td>1056.13</td>\n",
              "      <td>121.094495</td>\n",
              "      <td>117461.66</td>\n",
              "      <td>-468.05</td>\n",
              "      <td>0.0</td>\n",
              "      <td>-17.795660</td>\n",
              "      <td>-17261.79</td>\n",
              "      <td>-89.05</td>\n",
              "      <td>0.0</td>\n",
              "      <td>-2.212082</td>\n",
              "      <td>-2145.72</td>\n",
              "      <td>970</td>\n",
              "      <td>186</td>\n",
              "      <td>970</td>\n",
              "      <td>2</td>\n",
              "      <td>970</td>\n",
              "      <td>11</td>\n",
              "      <td>970</td>\n",
              "      <td>1</td>\n",
              "      <td>970</td>\n",
              "      <td>1</td>\n",
              "      <td>970</td>\n",
              "      <td>1</td>\n",
              "      <td>970</td>\n",
              "      <td>1</td>\n",
              "      <td>970</td>\n",
              "      <td>1</td>\n",
              "      <td>970</td>\n",
              "      <td>1</td>\n",
              "    </tr>\n",
              "    <tr>\n",
              "      <th>3</th>\n",
              "      <td>7</td>\n",
              "      <td>13</td>\n",
              "      <td>644</td>\n",
              "      <td>1050</td>\n",
              "      <td>0</td>\n",
              "      <td>0</td>\n",
              "      <td>19/05/13</td>\n",
              "      <td>05/07/13</td>\n",
              "      <td>4</td>\n",
              "      <td>1</td>\n",
              "      <td>4</td>\n",
              "      <td>1</td>\n",
              "      <td>4</td>\n",
              "      <td>1</td>\n",
              "      <td>1</td>\n",
              "      <td>5</td>\n",
              "      <td>1.291139</td>\n",
              "      <td>306</td>\n",
              "      <td>13.89</td>\n",
              "      <td>708.48</td>\n",
              "      <td>98.276034</td>\n",
              "      <td>23291.42</td>\n",
              "      <td>-312.03</td>\n",
              "      <td>0.0</td>\n",
              "      <td>-16.655570</td>\n",
              "      <td>-3947.37</td>\n",
              "      <td>-89.05</td>\n",
              "      <td>0.0</td>\n",
              "      <td>-0.751477</td>\n",
              "      <td>-178.10</td>\n",
              "      <td>237</td>\n",
              "      <td>73</td>\n",
              "      <td>237</td>\n",
              "      <td>2</td>\n",
              "      <td>237</td>\n",
              "      <td>8</td>\n",
              "      <td>0</td>\n",
              "      <td>0</td>\n",
              "      <td>0</td>\n",
              "      <td>0</td>\n",
              "      <td>0</td>\n",
              "      <td>0</td>\n",
              "      <td>0</td>\n",
              "      <td>0</td>\n",
              "      <td>0</td>\n",
              "      <td>0</td>\n",
              "      <td>0</td>\n",
              "      <td>0</td>\n",
              "    </tr>\n",
              "    <tr>\n",
              "      <th>4</th>\n",
              "      <td>9</td>\n",
              "      <td>8</td>\n",
              "      <td>1017</td>\n",
              "      <td>1489</td>\n",
              "      <td>0</td>\n",
              "      <td>0</td>\n",
              "      <td>16/02/13</td>\n",
              "      <td>05/04/13</td>\n",
              "      <td>32</td>\n",
              "      <td>1</td>\n",
              "      <td>32</td>\n",
              "      <td>1</td>\n",
              "      <td>32</td>\n",
              "      <td>1</td>\n",
              "      <td>1</td>\n",
              "      <td>15420</td>\n",
              "      <td>247.443060</td>\n",
              "      <td>139063</td>\n",
              "      <td>8.90</td>\n",
              "      <td>1424.80</td>\n",
              "      <td>120.636103</td>\n",
              "      <td>67797.49</td>\n",
              "      <td>-320.22</td>\n",
              "      <td>0.0</td>\n",
              "      <td>-20.524733</td>\n",
              "      <td>-11534.90</td>\n",
              "      <td>-53.43</td>\n",
              "      <td>0.0</td>\n",
              "      <td>-0.471548</td>\n",
              "      <td>-265.01</td>\n",
              "      <td>562</td>\n",
              "      <td>106</td>\n",
              "      <td>562</td>\n",
              "      <td>2</td>\n",
              "      <td>562</td>\n",
              "      <td>8</td>\n",
              "      <td>562</td>\n",
              "      <td>1</td>\n",
              "      <td>562</td>\n",
              "      <td>1</td>\n",
              "      <td>562</td>\n",
              "      <td>1</td>\n",
              "      <td>562</td>\n",
              "      <td>1</td>\n",
              "      <td>562</td>\n",
              "      <td>1</td>\n",
              "      <td>562</td>\n",
              "      <td>1</td>\n",
              "    </tr>\n",
              "  </tbody>\n",
              "</table>\n",
              "</div>"
            ],
            "text/plain": [
              "   id  campaign_id  ...  (income_bracket, count)  (income_bracket, nunique)\n",
              "0   1           13  ...                      310                          1\n",
              "1   2           13  ...                      385                          1\n",
              "2   6            9  ...                      970                          1\n",
              "3   7           13  ...                        0                          0\n",
              "4   9            8  ...                      562                          1\n",
              "\n",
              "[5 rows x 48 columns]"
            ]
          },
          "metadata": {
            "tags": []
          },
          "execution_count": 65
        }
      ]
    },
    {
      "cell_type": "code",
      "metadata": {
        "id": "ogBaIhebjPqi",
        "colab_type": "code",
        "colab": {
          "base_uri": "https://localhost:8080/",
          "height": 850
        },
        "outputId": "fedde452-29c7-4b90-bbc7-d21f8c2c6dba"
      },
      "source": [
        "##Checking for the null values in the train_df\n",
        "train_df.isnull().sum(axis=0)"
      ],
      "execution_count": null,
      "outputs": [
        {
          "output_type": "execute_result",
          "data": {
            "text/plain": [
              "id                             0\n",
              "campaign_id                    0\n",
              "coupon_id                      0\n",
              "customer_id                    0\n",
              "redemption_status              0\n",
              "campaign_type                  0\n",
              "start_date                     0\n",
              "end_date                       0\n",
              "('brand', 'count')_x           0\n",
              "('brand', 'nunique')_x         0\n",
              "('brand_type', 'count')_x      0\n",
              "('brand_type', 'nunique')_x    0\n",
              "('category', 'count')_x        0\n",
              "('category', 'nunique')_x      0\n",
              "(quantity, min)                0\n",
              "(quantity, max)                0\n",
              "(quantity, mean)               0\n",
              "(quantity, sum)                0\n",
              "(selling_price, min)           0\n",
              "(selling_price, max)           0\n",
              "(selling_price, mean)          0\n",
              "(selling_price, sum)           0\n",
              "(other_discount, min)          0\n",
              "(other_discount, max)          0\n",
              "(other_discount, mean)         0\n",
              "(other_discount, sum)          0\n",
              "(coupon_discount, min)         0\n",
              "(coupon_discount, max)         0\n",
              "(coupon_discount, mean)        0\n",
              "(coupon_discount, sum)         0\n",
              "(brand_y, count)               0\n",
              "(brand_y, nunique)             0\n",
              "(brand_type_y, count)          0\n",
              "(brand_type_y, nunique)        0\n",
              "(category_y, count)            0\n",
              "(category_y, nunique)          0\n",
              "(age_range, count)             0\n",
              "(age_range, nunique)           0\n",
              "(marital_status, count)        0\n",
              "(marital_status, nunique)      0\n",
              "(rented, count)                0\n",
              "(rented, nunique)              0\n",
              "(family_size, count)           0\n",
              "(family_size, nunique)         0\n",
              "(no_of_children, count)        0\n",
              "(no_of_children, nunique)      0\n",
              "(income_bracket, count)        0\n",
              "(income_bracket, nunique)      0\n",
              "dtype: int64"
            ]
          },
          "metadata": {
            "tags": []
          },
          "execution_count": 66
        }
      ]
    },
    {
      "cell_type": "code",
      "metadata": {
        "id": "4WY1YcJkkb3u",
        "colab_type": "code",
        "colab": {
          "base_uri": "https://localhost:8080/",
          "height": 34
        },
        "outputId": "7e29a204-09a3-42e1-f10a-1866bce8d6a5"
      },
      "source": [
        "len(train_df.columns)"
      ],
      "execution_count": null,
      "outputs": [
        {
          "output_type": "execute_result",
          "data": {
            "text/plain": [
              "48"
            ]
          },
          "metadata": {
            "tags": []
          },
          "execution_count": 67
        }
      ]
    },
    {
      "cell_type": "code",
      "metadata": {
        "id": "WCV-47QYjkoz",
        "colab_type": "code",
        "colab": {
          "base_uri": "https://localhost:8080/",
          "height": 833
        },
        "outputId": "05bee94e-af9f-405e-a473-90494c32d6cf"
      },
      "source": [
        "for col in train_df.columns:\n",
        "  if len(train_df[col].unique()) == 1:\n",
        "    print(train_df[col])\n",
        "    train_df.drop(col, inplace=True, axis=1)"
      ],
      "execution_count": null,
      "outputs": [
        {
          "output_type": "stream",
          "text": [
            "0        1\n",
            "1        1\n",
            "2        1\n",
            "3        1\n",
            "4        1\n",
            "        ..\n",
            "78364    1\n",
            "78365    1\n",
            "78366    1\n",
            "78367    1\n",
            "78368    1\n",
            "Name: (quantity, min), Length: 78369, dtype: int64\n",
            "0        0.0\n",
            "1        0.0\n",
            "2        0.0\n",
            "3        0.0\n",
            "4        0.0\n",
            "        ... \n",
            "78364    0.0\n",
            "78365    0.0\n",
            "78366    0.0\n",
            "78367    0.0\n",
            "78368    0.0\n",
            "Name: (other_discount, max), Length: 78369, dtype: float64\n",
            "0        0.0\n",
            "1        0.0\n",
            "2        0.0\n",
            "3        0.0\n",
            "4        0.0\n",
            "        ... \n",
            "78364    0.0\n",
            "78365    0.0\n",
            "78366    0.0\n",
            "78367    0.0\n",
            "78368    0.0\n",
            "Name: (coupon_discount, max), Length: 78369, dtype: float64\n",
            "0        2\n",
            "1        2\n",
            "2        2\n",
            "3        2\n",
            "4        2\n",
            "        ..\n",
            "78364    2\n",
            "78365    2\n",
            "78366    2\n",
            "78367    2\n",
            "78368    2\n",
            "Name: (brand_type_y, nunique), Length: 78369, dtype: int64\n"
          ],
          "name": "stdout"
        }
      ]
    },
    {
      "cell_type": "code",
      "metadata": {
        "id": "fEss6r8DkV6A",
        "colab_type": "code",
        "colab": {
          "base_uri": "https://localhost:8080/",
          "height": 34
        },
        "outputId": "9c75110e-c7f9-4d76-c7ed-f385d619adfe"
      },
      "source": [
        "len(train_df.columns)\n"
      ],
      "execution_count": null,
      "outputs": [
        {
          "output_type": "execute_result",
          "data": {
            "text/plain": [
              "44"
            ]
          },
          "metadata": {
            "tags": []
          },
          "execution_count": 69
        }
      ]
    },
    {
      "cell_type": "code",
      "metadata": {
        "id": "DvL2tD8HoWaL",
        "colab_type": "code",
        "colab": {
          "base_uri": "https://localhost:8080/",
          "height": 51
        },
        "outputId": "d4d5ca7a-007d-47d0-a847-2c4611f2d61f"
      },
      "source": [
        "print(type(train_df['start_date'][0]))\n",
        "print(type(train_df['start_date'][0]))\n"
      ],
      "execution_count": null,
      "outputs": [
        {
          "output_type": "stream",
          "text": [
            "<class 'str'>\n",
            "<class 'str'>\n"
          ],
          "name": "stdout"
        }
      ]
    },
    {
      "cell_type": "code",
      "metadata": {
        "id": "fRJWamMdksLb",
        "colab_type": "code",
        "colab": {}
      },
      "source": [
        "#As the start date and end date are from class 'str', the very first this to convert it to timestamp\n",
        "train_df['start_date'] = pd.to_datetime(train_df['start_date'], format='%d/%m/%y')\n",
        "train_df['end_date'] = pd.to_datetime(train_df['end_date'], format='%d/%m/%y')\n"
      ],
      "execution_count": null,
      "outputs": []
    },
    {
      "cell_type": "code",
      "metadata": {
        "id": "Ml6tIRhJoOaf",
        "colab_type": "code",
        "colab": {
          "base_uri": "https://localhost:8080/",
          "height": 51
        },
        "outputId": "f3aa9a3a-f230-4782-971c-76141362c09f"
      },
      "source": [
        "print(type(train_df['start_date'][0]))\n",
        "print(type(train_df['start_date'][0]))"
      ],
      "execution_count": null,
      "outputs": [
        {
          "output_type": "stream",
          "text": [
            "<class 'pandas._libs.tslibs.timestamps.Timestamp'>\n",
            "<class 'pandas._libs.tslibs.timestamps.Timestamp'>\n"
          ],
          "name": "stdout"
        }
      ]
    },
    {
      "cell_type": "code",
      "metadata": {
        "id": "z2M_DF9joirY",
        "colab_type": "code",
        "colab": {}
      },
      "source": [
        "train_df[\"campaign_month\"] = train_df[\"start_date\"].apply(lambda dt: (dt.month%12 + 3)//3)\n",
        "train_df['campaign_duration'] = (train_df['end_date'] - train_df['start_date'])\n",
        "train_df['campaign_duration'] = train_df['campaign_duration'].apply(lambda x: x.days)\n"
      ],
      "execution_count": null,
      "outputs": []
    },
    {
      "cell_type": "code",
      "metadata": {
        "id": "xHN9nGk9Xoff",
        "colab_type": "code",
        "colab": {
          "base_uri": "https://localhost:8080/",
          "height": 326
        },
        "outputId": "6957cb06-2538-411e-ef00-01cf7fd9cef4"
      },
      "source": [
        "train_df.head()"
      ],
      "execution_count": null,
      "outputs": [
        {
          "output_type": "execute_result",
          "data": {
            "text/html": [
              "<div>\n",
              "<style scoped>\n",
              "    .dataframe tbody tr th:only-of-type {\n",
              "        vertical-align: middle;\n",
              "    }\n",
              "\n",
              "    .dataframe tbody tr th {\n",
              "        vertical-align: top;\n",
              "    }\n",
              "\n",
              "    .dataframe thead th {\n",
              "        text-align: right;\n",
              "    }\n",
              "</style>\n",
              "<table border=\"1\" class=\"dataframe\">\n",
              "  <thead>\n",
              "    <tr style=\"text-align: right;\">\n",
              "      <th></th>\n",
              "      <th>id</th>\n",
              "      <th>campaign_id</th>\n",
              "      <th>coupon_id</th>\n",
              "      <th>customer_id</th>\n",
              "      <th>redemption_status</th>\n",
              "      <th>campaign_type</th>\n",
              "      <th>start_date</th>\n",
              "      <th>end_date</th>\n",
              "      <th>('brand', 'count')_x</th>\n",
              "      <th>('brand', 'nunique')_x</th>\n",
              "      <th>('brand_type', 'count')_x</th>\n",
              "      <th>('brand_type', 'nunique')_x</th>\n",
              "      <th>('category', 'count')_x</th>\n",
              "      <th>('category', 'nunique')_x</th>\n",
              "      <th>(quantity, max)</th>\n",
              "      <th>(quantity, mean)</th>\n",
              "      <th>(quantity, sum)</th>\n",
              "      <th>(selling_price, min)</th>\n",
              "      <th>(selling_price, max)</th>\n",
              "      <th>(selling_price, mean)</th>\n",
              "      <th>(selling_price, sum)</th>\n",
              "      <th>(other_discount, min)</th>\n",
              "      <th>(other_discount, mean)</th>\n",
              "      <th>(other_discount, sum)</th>\n",
              "      <th>(coupon_discount, min)</th>\n",
              "      <th>(coupon_discount, mean)</th>\n",
              "      <th>(coupon_discount, sum)</th>\n",
              "      <th>(brand_y, count)</th>\n",
              "      <th>(brand_y, nunique)</th>\n",
              "      <th>(brand_type_y, count)</th>\n",
              "      <th>(category_y, count)</th>\n",
              "      <th>(category_y, nunique)</th>\n",
              "      <th>(age_range, count)</th>\n",
              "      <th>(age_range, nunique)</th>\n",
              "      <th>(marital_status, count)</th>\n",
              "      <th>(marital_status, nunique)</th>\n",
              "      <th>(rented, count)</th>\n",
              "      <th>(rented, nunique)</th>\n",
              "      <th>(family_size, count)</th>\n",
              "      <th>(family_size, nunique)</th>\n",
              "      <th>(no_of_children, count)</th>\n",
              "      <th>(no_of_children, nunique)</th>\n",
              "      <th>(income_bracket, count)</th>\n",
              "      <th>(income_bracket, nunique)</th>\n",
              "      <th>campaign_month</th>\n",
              "      <th>campaign_duration</th>\n",
              "    </tr>\n",
              "  </thead>\n",
              "  <tbody>\n",
              "    <tr>\n",
              "      <th>0</th>\n",
              "      <td>1</td>\n",
              "      <td>13</td>\n",
              "      <td>27</td>\n",
              "      <td>1053</td>\n",
              "      <td>0</td>\n",
              "      <td>0</td>\n",
              "      <td>2013-05-19</td>\n",
              "      <td>2013-07-05</td>\n",
              "      <td>125</td>\n",
              "      <td>2</td>\n",
              "      <td>125</td>\n",
              "      <td>1</td>\n",
              "      <td>125</td>\n",
              "      <td>1</td>\n",
              "      <td>12444</td>\n",
              "      <td>340.487097</td>\n",
              "      <td>105551</td>\n",
              "      <td>17.45</td>\n",
              "      <td>5164.54</td>\n",
              "      <td>184.260484</td>\n",
              "      <td>57120.75</td>\n",
              "      <td>-890.50</td>\n",
              "      <td>-33.168935</td>\n",
              "      <td>-10282.37</td>\n",
              "      <td>-89.05</td>\n",
              "      <td>-0.287258</td>\n",
              "      <td>-89.05</td>\n",
              "      <td>310</td>\n",
              "      <td>84</td>\n",
              "      <td>310</td>\n",
              "      <td>310</td>\n",
              "      <td>8</td>\n",
              "      <td>310</td>\n",
              "      <td>1</td>\n",
              "      <td>310</td>\n",
              "      <td>1</td>\n",
              "      <td>310</td>\n",
              "      <td>1</td>\n",
              "      <td>310</td>\n",
              "      <td>1</td>\n",
              "      <td>310</td>\n",
              "      <td>1</td>\n",
              "      <td>310</td>\n",
              "      <td>1</td>\n",
              "      <td>2</td>\n",
              "      <td>47</td>\n",
              "    </tr>\n",
              "    <tr>\n",
              "      <th>1</th>\n",
              "      <td>2</td>\n",
              "      <td>13</td>\n",
              "      <td>116</td>\n",
              "      <td>48</td>\n",
              "      <td>0</td>\n",
              "      <td>0</td>\n",
              "      <td>2013-05-19</td>\n",
              "      <td>2013-07-05</td>\n",
              "      <td>3</td>\n",
              "      <td>1</td>\n",
              "      <td>3</td>\n",
              "      <td>1</td>\n",
              "      <td>3</td>\n",
              "      <td>1</td>\n",
              "      <td>11586</td>\n",
              "      <td>31.540260</td>\n",
              "      <td>12143</td>\n",
              "      <td>7.12</td>\n",
              "      <td>1758.92</td>\n",
              "      <td>234.247013</td>\n",
              "      <td>90185.10</td>\n",
              "      <td>-372.23</td>\n",
              "      <td>-27.699169</td>\n",
              "      <td>-10664.18</td>\n",
              "      <td>-213.72</td>\n",
              "      <td>-3.215039</td>\n",
              "      <td>-1237.79</td>\n",
              "      <td>385</td>\n",
              "      <td>102</td>\n",
              "      <td>385</td>\n",
              "      <td>385</td>\n",
              "      <td>12</td>\n",
              "      <td>385</td>\n",
              "      <td>1</td>\n",
              "      <td>385</td>\n",
              "      <td>1</td>\n",
              "      <td>385</td>\n",
              "      <td>1</td>\n",
              "      <td>385</td>\n",
              "      <td>1</td>\n",
              "      <td>385</td>\n",
              "      <td>1</td>\n",
              "      <td>385</td>\n",
              "      <td>1</td>\n",
              "      <td>2</td>\n",
              "      <td>47</td>\n",
              "    </tr>\n",
              "    <tr>\n",
              "      <th>2</th>\n",
              "      <td>6</td>\n",
              "      <td>9</td>\n",
              "      <td>635</td>\n",
              "      <td>205</td>\n",
              "      <td>0</td>\n",
              "      <td>1</td>\n",
              "      <td>2013-03-11</td>\n",
              "      <td>2013-04-12</td>\n",
              "      <td>67</td>\n",
              "      <td>1</td>\n",
              "      <td>67</td>\n",
              "      <td>1</td>\n",
              "      <td>67</td>\n",
              "      <td>1</td>\n",
              "      <td>10</td>\n",
              "      <td>1.392784</td>\n",
              "      <td>1351</td>\n",
              "      <td>17.45</td>\n",
              "      <td>1056.13</td>\n",
              "      <td>121.094495</td>\n",
              "      <td>117461.66</td>\n",
              "      <td>-468.05</td>\n",
              "      <td>-17.795660</td>\n",
              "      <td>-17261.79</td>\n",
              "      <td>-89.05</td>\n",
              "      <td>-2.212082</td>\n",
              "      <td>-2145.72</td>\n",
              "      <td>970</td>\n",
              "      <td>186</td>\n",
              "      <td>970</td>\n",
              "      <td>970</td>\n",
              "      <td>11</td>\n",
              "      <td>970</td>\n",
              "      <td>1</td>\n",
              "      <td>970</td>\n",
              "      <td>1</td>\n",
              "      <td>970</td>\n",
              "      <td>1</td>\n",
              "      <td>970</td>\n",
              "      <td>1</td>\n",
              "      <td>970</td>\n",
              "      <td>1</td>\n",
              "      <td>970</td>\n",
              "      <td>1</td>\n",
              "      <td>2</td>\n",
              "      <td>32</td>\n",
              "    </tr>\n",
              "    <tr>\n",
              "      <th>3</th>\n",
              "      <td>7</td>\n",
              "      <td>13</td>\n",
              "      <td>644</td>\n",
              "      <td>1050</td>\n",
              "      <td>0</td>\n",
              "      <td>0</td>\n",
              "      <td>2013-05-19</td>\n",
              "      <td>2013-07-05</td>\n",
              "      <td>4</td>\n",
              "      <td>1</td>\n",
              "      <td>4</td>\n",
              "      <td>1</td>\n",
              "      <td>4</td>\n",
              "      <td>1</td>\n",
              "      <td>5</td>\n",
              "      <td>1.291139</td>\n",
              "      <td>306</td>\n",
              "      <td>13.89</td>\n",
              "      <td>708.48</td>\n",
              "      <td>98.276034</td>\n",
              "      <td>23291.42</td>\n",
              "      <td>-312.03</td>\n",
              "      <td>-16.655570</td>\n",
              "      <td>-3947.37</td>\n",
              "      <td>-89.05</td>\n",
              "      <td>-0.751477</td>\n",
              "      <td>-178.10</td>\n",
              "      <td>237</td>\n",
              "      <td>73</td>\n",
              "      <td>237</td>\n",
              "      <td>237</td>\n",
              "      <td>8</td>\n",
              "      <td>0</td>\n",
              "      <td>0</td>\n",
              "      <td>0</td>\n",
              "      <td>0</td>\n",
              "      <td>0</td>\n",
              "      <td>0</td>\n",
              "      <td>0</td>\n",
              "      <td>0</td>\n",
              "      <td>0</td>\n",
              "      <td>0</td>\n",
              "      <td>0</td>\n",
              "      <td>0</td>\n",
              "      <td>2</td>\n",
              "      <td>47</td>\n",
              "    </tr>\n",
              "    <tr>\n",
              "      <th>4</th>\n",
              "      <td>9</td>\n",
              "      <td>8</td>\n",
              "      <td>1017</td>\n",
              "      <td>1489</td>\n",
              "      <td>0</td>\n",
              "      <td>0</td>\n",
              "      <td>2013-02-16</td>\n",
              "      <td>2013-04-05</td>\n",
              "      <td>32</td>\n",
              "      <td>1</td>\n",
              "      <td>32</td>\n",
              "      <td>1</td>\n",
              "      <td>32</td>\n",
              "      <td>1</td>\n",
              "      <td>15420</td>\n",
              "      <td>247.443060</td>\n",
              "      <td>139063</td>\n",
              "      <td>8.90</td>\n",
              "      <td>1424.80</td>\n",
              "      <td>120.636103</td>\n",
              "      <td>67797.49</td>\n",
              "      <td>-320.22</td>\n",
              "      <td>-20.524733</td>\n",
              "      <td>-11534.90</td>\n",
              "      <td>-53.43</td>\n",
              "      <td>-0.471548</td>\n",
              "      <td>-265.01</td>\n",
              "      <td>562</td>\n",
              "      <td>106</td>\n",
              "      <td>562</td>\n",
              "      <td>562</td>\n",
              "      <td>8</td>\n",
              "      <td>562</td>\n",
              "      <td>1</td>\n",
              "      <td>562</td>\n",
              "      <td>1</td>\n",
              "      <td>562</td>\n",
              "      <td>1</td>\n",
              "      <td>562</td>\n",
              "      <td>1</td>\n",
              "      <td>562</td>\n",
              "      <td>1</td>\n",
              "      <td>562</td>\n",
              "      <td>1</td>\n",
              "      <td>1</td>\n",
              "      <td>48</td>\n",
              "    </tr>\n",
              "  </tbody>\n",
              "</table>\n",
              "</div>"
            ],
            "text/plain": [
              "   id  campaign_id  ...  campaign_month  campaign_duration\n",
              "0   1           13  ...               2                 47\n",
              "1   2           13  ...               2                 47\n",
              "2   6            9  ...               2                 32\n",
              "3   7           13  ...               2                 47\n",
              "4   9            8  ...               1                 48\n",
              "\n",
              "[5 rows x 46 columns]"
            ]
          },
          "metadata": {
            "tags": []
          },
          "execution_count": 74
        }
      ]
    },
    {
      "cell_type": "code",
      "metadata": {
        "id": "pITlbd_kq8px",
        "colab_type": "code",
        "colab": {}
      },
      "source": [
        "features_name = [x for x in train_df.columns if x not in ['id' , 'redemption_status', 'start_date', 'end_date']]\n",
        "target = train_df['redemption_status']"
      ],
      "execution_count": null,
      "outputs": []
    },
    {
      "cell_type": "code",
      "metadata": {
        "id": "sfaSHpOirZCZ",
        "colab_type": "code",
        "colab": {
          "base_uri": "https://localhost:8080/",
          "height": 34
        },
        "outputId": "64bb7348-3c54-471e-e478-ffe581fc2747"
      },
      "source": [
        "len(features_name), len(target)"
      ],
      "execution_count": null,
      "outputs": [
        {
          "output_type": "execute_result",
          "data": {
            "text/plain": [
              "(42, 78369)"
            ]
          },
          "metadata": {
            "tags": []
          },
          "execution_count": 76
        }
      ]
    },
    {
      "cell_type": "code",
      "metadata": {
        "id": "N_mzoklCveUo",
        "colab_type": "code",
        "colab": {
          "base_uri": "https://localhost:8080/",
          "height": 452
        },
        "outputId": "35033bbf-a305-4be6-eb48-eb13d922fd77"
      },
      "source": [
        "X_train, X_test, y_train, y_test = train_test_split(train_df[features_name].values, target, test_size=0.2, random_state=2019,stratify=target)\n",
        "model=RandomForestClassifier(n_estimators=150)\n",
        "\n",
        "#Train the model using the training sets y_pred=clf.predict(X_test)\n",
        "model.fit(X_train,y_train)\n",
        "y_pred = model.predict(X_test)\n",
        "print(\"Accuracy: \",accuracy_score(y_test, y_pred))\n",
        "print(classification_report(y_test, y_pred))\n",
        "\n",
        "# AUC ROC CURVE\n",
        "predictions = model.predict_proba(X_test)[:,1]\n",
        "roc_auc_score(y_test, y_pred, average='weighted')\n",
        "\n",
        "fpr, tpr, threshold = roc_curve(y_test, predictions)\n",
        "\n",
        "# Calculating the AUC Score\n",
        "auc = np.trapz(tpr,fpr)\n",
        "pltTitle = print(\"AUROC Plot:\", \"%.4f\" %auc)\n",
        "\n",
        "# Plotting the ROC Curve\n",
        "plt.plot(fpr,tpr)\n",
        "plt.title(pltTitle)\n",
        "plt.show()"
      ],
      "execution_count": null,
      "outputs": [
        {
          "output_type": "stream",
          "text": [
            "Accuracy:  0.9899834120199056\n",
            "              precision    recall  f1-score   support\n",
            "\n",
            "           0       0.99      1.00      0.99     15528\n",
            "           1       0.35      0.09      0.14       146\n",
            "\n",
            "    accuracy                           0.99     15674\n",
            "   macro avg       0.67      0.54      0.57     15674\n",
            "weighted avg       0.99      0.99      0.99     15674\n",
            "\n",
            "AUROC Plot: 0.8511\n"
          ],
          "name": "stdout"
        },
        {
          "output_type": "display_data",
          "data": {
            "image/png": "[encoded data removed]",
            "text/plain": [
              "<Figure size 432x288 with 1 Axes>"
            ]
          },
          "metadata": {
            "tags": [],
            "needs_background": "light"
          }
        }
      ]
    },
    {
      "cell_type": "code",
      "metadata": {
        "id": "JQxHQMKtxPt6",
        "colab_type": "code",
        "colab": {}
      },
      "source": [
        ""
      ],
      "execution_count": null,
      "outputs": []
    },
    {
      "cell_type": "code",
      "metadata": {
        "id": "DxFXPupzrjd-",
        "colab_type": "code",
        "colab": {
          "base_uri": "https://localhost:8080/",
          "height": 452
        },
        "outputId": "65020095-5e65-4a87-b4b7-54ef514bce64"
      },
      "source": [
        "X_train, X_test, y_train, y_test = train_test_split(train_df[features_name].values, target, test_size=0.2, random_state=2019,stratify=target)\n",
        "model = xgb.XGBClassifier()\n",
        "model.fit(X_train, y_train)\n",
        "y_pred = model.predict(X_test)\n",
        "print(\"Accuracy: \",accuracy_score(y_test, y_pred))\n",
        "print(classification_report(y_test, y_pred))\n",
        "\n",
        "# AUC ROC CURVE\n",
        "predictions = model.predict_proba(X_test)[:,1]\n",
        "roc_auc_score(y_test, y_pred, average='weighted')\n",
        "\n",
        "fpr, tpr, threshold = roc_curve(y_test, predictions)\n",
        "\n",
        "# Calculating the AUC Score\n",
        "auc = np.trapz(tpr,fpr)\n",
        "pltTitle = print(\"AUROC Plot:\", \"%.4f\" %auc)\n",
        "\n",
        "# Plotting the ROC Curve\n",
        "plt.plot(fpr,tpr)\n",
        "plt.title(pltTitle)\n",
        "plt.show()"
      ],
      "execution_count": null,
      "outputs": [
        {
          "output_type": "stream",
          "text": [
            "Accuracy:  0.9908128110246268\n",
            "              precision    recall  f1-score   support\n",
            "\n",
            "           0       0.99      1.00      1.00     15528\n",
            "           1       0.75      0.02      0.04       146\n",
            "\n",
            "    accuracy                           0.99     15674\n",
            "   macro avg       0.87      0.51      0.52     15674\n",
            "weighted avg       0.99      0.99      0.99     15674\n",
            "\n",
            "AUROC Plot: 0.9295\n"
          ],
          "name": "stdout"
        },
        {
          "output_type": "display_data",
          "data": {
            "image/png": "[encoded data removed]",
            "text/plain": [
              "<Figure size 432x288 with 1 Axes>"
            ]
          },
          "metadata": {
            "tags": [],
            "needs_background": "light"
          }
        }
      ]
    },
    {
      "cell_type": "code",
      "metadata": {
        "id": "CRDySIoytFbf",
        "colab_type": "code",
        "colab": {
          "base_uri": "https://localhost:8080/",
          "height": 455
        },
        "outputId": "8da83b68-46fb-482e-ed59-a1a4c99f5e45"
      },
      "source": [
        "X_train, X_test, y_train, y_test = train_test_split(train_df[features_name].values, target, test_size=0.2, random_state=2019,stratify=target)\n",
        "model=RandomForestClassifier(n_estimators=150)\n",
        "\n",
        "#Train the model using the training sets y_pred=clf.predict(X_test)\n",
        "model.fit(X_train,y_train)\n",
        "y_pred = model.predict(X_test)\n",
        "print(\"Accuracy: \",accuracy_score(y_test, y_pred))\n",
        "print(classification_report(y_test, y_pred))\n",
        "\n",
        "# AUC ROC CURVE\n",
        "predictions = model.predict_proba(X_test)[:,1]\n",
        "roc_auc_score(y_test, y_pred, average='weighted')\n",
        "\n",
        "fpr, tpr, threshold = roc_curve(y_test, predictions)\n",
        "\n",
        "# Calculating the AUC Score\n",
        "auc = np.trapz(tpr,fpr)\n",
        "pltTitle = print(\"AUROC Plot:\", \"%.4f\" %auc)\n",
        "\n",
        "# Plotting the ROC Curve\n",
        "plt.plot(fpr,tpr)\n",
        "plt.title(pltTitle)\n",
        "plt.show()"
      ],
      "execution_count": null,
      "outputs": [
        {
          "output_type": "stream",
          "text": [
            "Accuracy:  0.9900472119433457\n",
            "              precision    recall  f1-score   support\n",
            "\n",
            "           0       0.99      1.00      0.99     15528\n",
            "           1       0.38      0.10      0.16       146\n",
            "\n",
            "    accuracy                           0.99     15674\n",
            "   macro avg       0.68      0.55      0.58     15674\n",
            "weighted avg       0.99      0.99      0.99     15674\n",
            "\n",
            "AUROC Plot: 0.8504\n"
          ],
          "name": "stdout"
        },
        {
          "output_type": "display_data",
          "data": {
            "image/png": "[encoded data removed]",
            "text/plain": [
              "<Figure size 432x288 with 1 Axes>"
            ]
          },
          "metadata": {
            "tags": []
          }
        }
      ]
    },
    {
      "cell_type": "code",
      "metadata": {
        "id": "SQLSTbrsuko9",
        "colab_type": "code",
        "colab": {}
      },
      "source": [
        ""
      ],
      "execution_count": null,
      "outputs": []
    }
  ]
}